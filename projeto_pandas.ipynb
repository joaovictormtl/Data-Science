{
  "nbformat": 4,
  "nbformat_minor": 0,
  "metadata": {
    "colab": {
      "provenance": [],
      "collapsed_sections": [
        "52Z_bOeK-1nl",
        "9kr7sSBk1DIw",
        "59Slg9tq_NOI",
        "iIpT7A0HCsl-"
      ],
      "mount_file_id": "1dxJTEUzPnirh0mHNNFlEpYQ4uYPlVsK_",
      "authorship_tag": "ABX9TyM/UTBkL9uDHwp9Qp3+cMev",
      "include_colab_link": true
    },
    "kernelspec": {
      "name": "python3",
      "display_name": "Python 3"
    },
    "language_info": {
      "name": "python"
    }
  },
  "cells": [
    {
      "cell_type": "markdown",
      "metadata": {
        "id": "view-in-github",
        "colab_type": "text"
      },
      "source": [
        "<a href=\"https://colab.research.google.com/github/joaovictormtl/Data-Science/blob/main/projeto_pandas.ipynb\" target=\"_parent\"><img src=\"https://colab.research.google.com/assets/colab-badge.svg\" alt=\"Open In Colab\"/></a>"
      ]
    },
    {
      "cell_type": "markdown",
      "source": [
        "# Importação"
      ],
      "metadata": {
        "id": "mtJoT8Cm-4SI"
      }
    },
    {
      "cell_type": "code",
      "execution_count": null,
      "metadata": {
        "id": "ua5cim_t76hC"
      },
      "outputs": [],
      "source": [
        "import pandas as pd\n",
        "df = pd.read_csv('/content/drive/MyDrive/Datasets/age_dataset.csv')"
      ]
    },
    {
      "cell_type": "code",
      "source": [
        "df.head(1)"
      ],
      "metadata": {
        "id": "564HEUEw-a3k"
      },
      "execution_count": null,
      "outputs": []
    },
    {
      "cell_type": "markdown",
      "source": [
        "#Polimento"
      ],
      "metadata": {
        "id": "52Z_bOeK-1nl"
      }
    },
    {
      "cell_type": "code",
      "source": [
        "df = df.rename(columns={'Id':'id', 'Name':'nome', 'Short description':'descricao',\\\n",
        "                   'Gender':'genero','Country':'pais', 'Occupation':'profissao',\\\n",
        "                   'Birth year':'nascimento', 'Death year':'ano_morte',\\\n",
        "                   'Manner of death':'morte_causa', 'Age of death':'idade_morte'})"
      ],
      "metadata": {
        "id": "TSA5rhK56wdI"
      },
      "execution_count": null,
      "outputs": []
    },
    {
      "cell_type": "markdown",
      "source": [
        "##Mudando o número máximo de caracteres para as colunas"
      ],
      "metadata": {
        "id": "9kr7sSBk1DIw"
      }
    },
    {
      "cell_type": "code",
      "source": [
        "df['descricao'].str.len().max()"
      ],
      "metadata": {
        "id": "4-mxe-47xlXj",
        "colab": {
          "base_uri": "https://localhost:8080/"
        },
        "outputId": "8355d8f8-44a7-4f55-aabf-c952a13b2a5a"
      },
      "execution_count": null,
      "outputs": [
        {
          "output_type": "execute_result",
          "data": {
            "text/plain": [
              "269.0"
            ]
          },
          "metadata": {},
          "execution_count": 3
        }
      ]
    },
    {
      "cell_type": "code",
      "source": [
        "pd.set_option('max_colwidth', 250)"
      ],
      "metadata": {
        "id": "pdGm6z3syqHf"
      },
      "execution_count": null,
      "outputs": []
    },
    {
      "cell_type": "code",
      "source": [
        "df.head(1)"
      ],
      "metadata": {
        "id": "yOYr73Xh1cnl",
        "colab": {
          "base_uri": "https://localhost:8080/"
        },
        "outputId": "392e5e2a-ecc8-48a5-c094-d19468aed58c"
      },
      "execution_count": null,
      "outputs": [
        {
          "output_type": "execute_result",
          "data": {
            "text/plain": [
              "    id               nome                                       descricao  \\\n",
              "0  Q23  George Washington  1st president of the United States (1732–1799)   \n",
              "\n",
              "  genero                                                pais   profissao  \\\n",
              "0   Male  United States of America; Kingdom of Great Britain  Politician   \n",
              "\n",
              "   nascimento  ano_morte     morte_causa  idade_morte  \n",
              "0        1732     1799.0  natural causes         67.0  "
            ],
            "text/html": [
              "\n",
              "  <div id=\"df-3fa15a6c-a520-45b4-9556-b0691151580b\" class=\"colab-df-container\">\n",
              "    <div>\n",
              "<style scoped>\n",
              "    .dataframe tbody tr th:only-of-type {\n",
              "        vertical-align: middle;\n",
              "    }\n",
              "\n",
              "    .dataframe tbody tr th {\n",
              "        vertical-align: top;\n",
              "    }\n",
              "\n",
              "    .dataframe thead th {\n",
              "        text-align: right;\n",
              "    }\n",
              "</style>\n",
              "<table border=\"1\" class=\"dataframe\">\n",
              "  <thead>\n",
              "    <tr style=\"text-align: right;\">\n",
              "      <th></th>\n",
              "      <th>id</th>\n",
              "      <th>nome</th>\n",
              "      <th>descricao</th>\n",
              "      <th>genero</th>\n",
              "      <th>pais</th>\n",
              "      <th>profissao</th>\n",
              "      <th>nascimento</th>\n",
              "      <th>ano_morte</th>\n",
              "      <th>morte_causa</th>\n",
              "      <th>idade_morte</th>\n",
              "    </tr>\n",
              "  </thead>\n",
              "  <tbody>\n",
              "    <tr>\n",
              "      <th>0</th>\n",
              "      <td>Q23</td>\n",
              "      <td>George Washington</td>\n",
              "      <td>1st president of the United States (1732–1799)</td>\n",
              "      <td>Male</td>\n",
              "      <td>United States of America; Kingdom of Great Britain</td>\n",
              "      <td>Politician</td>\n",
              "      <td>1732</td>\n",
              "      <td>1799.0</td>\n",
              "      <td>natural causes</td>\n",
              "      <td>67.0</td>\n",
              "    </tr>\n",
              "  </tbody>\n",
              "</table>\n",
              "</div>\n",
              "    <div class=\"colab-df-buttons\">\n",
              "\n",
              "  <div class=\"colab-df-container\">\n",
              "    <button class=\"colab-df-convert\" onclick=\"convertToInteractive('df-3fa15a6c-a520-45b4-9556-b0691151580b')\"\n",
              "            title=\"Convert this dataframe to an interactive table.\"\n",
              "            style=\"display:none;\">\n",
              "\n",
              "  <svg xmlns=\"http://www.w3.org/2000/svg\" height=\"24px\" viewBox=\"0 -960 960 960\">\n",
              "    <path d=\"M120-120v-720h720v720H120Zm60-500h600v-160H180v160Zm220 220h160v-160H400v160Zm0 220h160v-160H400v160ZM180-400h160v-160H180v160Zm440 0h160v-160H620v160ZM180-180h160v-160H180v160Zm440 0h160v-160H620v160Z\"/>\n",
              "  </svg>\n",
              "    </button>\n",
              "\n",
              "  <style>\n",
              "    .colab-df-container {\n",
              "      display:flex;\n",
              "      gap: 12px;\n",
              "    }\n",
              "\n",
              "    .colab-df-convert {\n",
              "      background-color: #E8F0FE;\n",
              "      border: none;\n",
              "      border-radius: 50%;\n",
              "      cursor: pointer;\n",
              "      display: none;\n",
              "      fill: #1967D2;\n",
              "      height: 32px;\n",
              "      padding: 0 0 0 0;\n",
              "      width: 32px;\n",
              "    }\n",
              "\n",
              "    .colab-df-convert:hover {\n",
              "      background-color: #E2EBFA;\n",
              "      box-shadow: 0px 1px 2px rgba(60, 64, 67, 0.3), 0px 1px 3px 1px rgba(60, 64, 67, 0.15);\n",
              "      fill: #174EA6;\n",
              "    }\n",
              "\n",
              "    .colab-df-buttons div {\n",
              "      margin-bottom: 4px;\n",
              "    }\n",
              "\n",
              "    [theme=dark] .colab-df-convert {\n",
              "      background-color: #3B4455;\n",
              "      fill: #D2E3FC;\n",
              "    }\n",
              "\n",
              "    [theme=dark] .colab-df-convert:hover {\n",
              "      background-color: #434B5C;\n",
              "      box-shadow: 0px 1px 3px 1px rgba(0, 0, 0, 0.15);\n",
              "      filter: drop-shadow(0px 1px 2px rgba(0, 0, 0, 0.3));\n",
              "      fill: #FFFFFF;\n",
              "    }\n",
              "  </style>\n",
              "\n",
              "    <script>\n",
              "      const buttonEl =\n",
              "        document.querySelector('#df-3fa15a6c-a520-45b4-9556-b0691151580b button.colab-df-convert');\n",
              "      buttonEl.style.display =\n",
              "        google.colab.kernel.accessAllowed ? 'block' : 'none';\n",
              "\n",
              "      async function convertToInteractive(key) {\n",
              "        const element = document.querySelector('#df-3fa15a6c-a520-45b4-9556-b0691151580b');\n",
              "        const dataTable =\n",
              "          await google.colab.kernel.invokeFunction('convertToInteractive',\n",
              "                                                    [key], {});\n",
              "        if (!dataTable) return;\n",
              "\n",
              "        const docLinkHtml = 'Like what you see? Visit the ' +\n",
              "          '<a target=\"_blank\" href=https://colab.research.google.com/notebooks/data_table.ipynb>data table notebook</a>'\n",
              "          + ' to learn more about interactive tables.';\n",
              "        element.innerHTML = '';\n",
              "        dataTable['output_type'] = 'display_data';\n",
              "        await google.colab.output.renderOutput(dataTable, element);\n",
              "        const docLink = document.createElement('div');\n",
              "        docLink.innerHTML = docLinkHtml;\n",
              "        element.appendChild(docLink);\n",
              "      }\n",
              "    </script>\n",
              "  </div>\n",
              "\n",
              "    </div>\n",
              "  </div>\n"
            ]
          },
          "metadata": {},
          "execution_count": 5
        }
      ]
    },
    {
      "cell_type": "markdown",
      "source": [
        "# Valores Nulos"
      ],
      "metadata": {
        "id": "59Slg9tq_NOI"
      }
    },
    {
      "cell_type": "code",
      "source": [
        "df.isnull().sum()"
      ],
      "metadata": {
        "colab": {
          "base_uri": "https://localhost:8080/"
        },
        "id": "jzupE6aJ_PKN",
        "outputId": "e27eea07-f61b-48a1-e9e7-df8da8b26bf7"
      },
      "execution_count": null,
      "outputs": [
        {
          "output_type": "execute_result",
          "data": {
            "text/plain": [
              "id                   0\n",
              "nome                 0\n",
              "descricao        67900\n",
              "genero          133646\n",
              "pais            335509\n",
              "profissao       206914\n",
              "nascimento           0\n",
              "ano_morte            1\n",
              "morte_causa    1169406\n",
              "idade_morte          1\n",
              "dtype: int64"
            ]
          },
          "metadata": {},
          "execution_count": 6
        }
      ]
    },
    {
      "cell_type": "markdown",
      "source": [
        "## Mudando o tipo primitivo das colunas e Preenchendo Valores Nulos"
      ],
      "metadata": {
        "id": "iIpT7A0HCsl-"
      }
    },
    {
      "cell_type": "code",
      "source": [
        "df['descricao'].fillna(\"Não Preenchido\", inplace=True)"
      ],
      "metadata": {
        "id": "G-CgnG4dGcNx"
      },
      "execution_count": null,
      "outputs": []
    },
    {
      "cell_type": "code",
      "source": [
        "df['genero'].fillna(\"Não Preenchido\", inplace=True)"
      ],
      "metadata": {
        "id": "H1vxEaFJHBhn"
      },
      "execution_count": null,
      "outputs": []
    },
    {
      "cell_type": "code",
      "source": [
        "df['pais'].fillna(\"Não Preenchido\", inplace=True)"
      ],
      "metadata": {
        "id": "zKR6b_sFHH98"
      },
      "execution_count": null,
      "outputs": []
    },
    {
      "cell_type": "code",
      "source": [
        "df['profissao'].fillna(\"Não Preenchido\", inplace=True)"
      ],
      "metadata": {
        "id": "8lMkhAD-HP4A"
      },
      "execution_count": null,
      "outputs": []
    },
    {
      "cell_type": "code",
      "source": [
        "df['ano_morte'].fillna(0, inplace=True)\n",
        "df['ano_morte'] = df.ano_morte.astype('int')"
      ],
      "metadata": {
        "id": "JaQ8OyEp9NtB"
      },
      "execution_count": null,
      "outputs": []
    },
    {
      "cell_type": "code",
      "source": [
        "df['idade_morte'].fillna(0, inplace=True)\n",
        "df['idade_morte'] = df.idade_morte.astype('int')"
      ],
      "metadata": {
        "id": "kgoPAVtv_s0H"
      },
      "execution_count": null,
      "outputs": []
    },
    {
      "cell_type": "code",
      "source": [
        "df['morte_causa'].fillna(\"Desconhecido\", inplace=True)"
      ],
      "metadata": {
        "id": "KnUwA3U4Bh8q"
      },
      "execution_count": null,
      "outputs": []
    },
    {
      "cell_type": "code",
      "source": [
        "df.isna().sum()"
      ],
      "metadata": {
        "id": "9Z7i5hcg71zT",
        "colab": {
          "base_uri": "https://localhost:8080/"
        },
        "outputId": "8bb1739d-73ea-4c82-b109-9c260cf864aa"
      },
      "execution_count": null,
      "outputs": [
        {
          "output_type": "execute_result",
          "data": {
            "text/plain": [
              "id             0\n",
              "nome           0\n",
              "descricao      0\n",
              "genero         0\n",
              "pais           0\n",
              "profissao      0\n",
              "nascimento     0\n",
              "ano_morte      0\n",
              "morte_causa    0\n",
              "idade_morte    0\n",
              "dtype: int64"
            ]
          },
          "metadata": {},
          "execution_count": 14
        }
      ]
    },
    {
      "cell_type": "markdown",
      "source": [
        "# Manipulações"
      ],
      "metadata": {
        "id": "0a7D9u26AXVB"
      }
    },
    {
      "cell_type": "code",
      "source": [
        "df2 = df"
      ],
      "metadata": {
        "id": "gWlYzXnLAaNQ"
      },
      "execution_count": null,
      "outputs": []
    },
    {
      "cell_type": "markdown",
      "source": [
        "## Períodos Históricos"
      ],
      "metadata": {
        "id": "P2-AujOmCS6L"
      }
    },
    {
      "cell_type": "code",
      "source": [
        "def definirPeriodo(row):\n",
        "    if row['ano_morte'] < 476:\n",
        "        return \"Antigo\"\n",
        "    elif row['nascimento'] >= 476 and row['ano_morte'] < 1453:\n",
        "        return \"Médio\"\n",
        "    elif row['nascimento'] >= 1453 and row['ano_morte'] < 1789:\n",
        "        return \"Moderno\"\n",
        "    else:\n",
        "        return \"Contemporâneo\""
      ],
      "metadata": {
        "id": "vbhngX9TA5z8"
      },
      "execution_count": null,
      "outputs": []
    },
    {
      "cell_type": "code",
      "source": [
        "df['periodo'] = df.apply(definirPeriodo, axis=1)"
      ],
      "metadata": {
        "id": "zahfeNn_AnJU"
      },
      "execution_count": null,
      "outputs": []
    },
    {
      "cell_type": "code",
      "source": [
        "df.head(5)"
      ],
      "metadata": {
        "id": "mOVUDXF0lGbc"
      },
      "execution_count": null,
      "outputs": []
    },
    {
      "cell_type": "markdown",
      "source": [
        "## 1 - Média da idade com que as pessoas morriam nos diferentes períodos históricos"
      ],
      "metadata": {
        "id": "gtdZf0aAEinH"
      }
    },
    {
      "cell_type": "code",
      "source": [
        "periodo_morte = df.groupby('periodo').mean()['idade_morte']\n",
        "periodo_morte.to_frame().sort_values(by='idade_morte', ascending=False)"
      ],
      "metadata": {
        "id": "ckqdozVjCXcW"
      },
      "execution_count": null,
      "outputs": []
    },
    {
      "cell_type": "markdown",
      "source": [
        "## 2 - Suicídio: Média da idade com que as pessoas se suicidam"
      ],
      "metadata": {
        "id": "jNjw7l1eGVtz"
      }
    },
    {
      "cell_type": "code",
      "source": [
        "selecao = df['morte_causa'] == 'suicide'\n",
        "df_suicide = df[selecao]\n",
        "\n",
        "df_suicide.groupby('morte_causa').mean()['idade_morte'].to_frame()"
      ],
      "metadata": {
        "id": "tyINIHJXGax1"
      },
      "execution_count": null,
      "outputs": []
    },
    {
      "cell_type": "markdown",
      "source": [
        "## 3 - Quantidade registros por gênero"
      ],
      "metadata": {
        "id": "GLbX67xsIekn"
      }
    },
    {
      "cell_type": "code",
      "source": [
        "df.groupby('genero').count().sort_values('id', ascending=False)['id'].to_frame()"
      ],
      "metadata": {
        "id": "vV8oLqAAJUYb"
      },
      "execution_count": null,
      "outputs": []
    },
    {
      "cell_type": "markdown",
      "source": [
        "## 4 - Homicídio: Profissionais mais sujeitos a sofrer homicídios"
      ],
      "metadata": {
        "id": "3ptqshE8PsDC"
      }
    },
    {
      "cell_type": "code",
      "source": [
        "df_homicide = df.query('morte_causa == \"homicide\"')"
      ],
      "metadata": {
        "id": "VoTW6PW6MdpB"
      },
      "execution_count": null,
      "outputs": []
    },
    {
      "cell_type": "code",
      "source": [
        "df_homicide.groupby('profissao').count().sort_values('id', ascending=False)['id'].to_frame()"
      ],
      "metadata": {
        "id": "sWnEJWTGQCWH"
      },
      "execution_count": null,
      "outputs": []
    },
    {
      "cell_type": "markdown",
      "source": [
        "# Dash"
      ],
      "metadata": {
        "id": "5rVlDijvlild"
      }
    },
    {
      "cell_type": "code",
      "source": [
        "pip install dash"
      ],
      "metadata": {
        "id": "eX9uX_cKlj5n"
      },
      "execution_count": null,
      "outputs": []
    },
    {
      "cell_type": "code",
      "source": [
        "from dash import Dash, html, dcc, Input, Output\n",
        "import plotly.express as px"
      ],
      "metadata": {
        "id": "Z9RlXzbcl1KA"
      },
      "execution_count": null,
      "outputs": []
    },
    {
      "cell_type": "markdown",
      "source": [
        "# Média da Idade com que as pessoas morriam nos diferentes períodos históricos"
      ],
      "metadata": {
        "id": "yZjZeJf-7x2K"
      }
    },
    {
      "cell_type": "code",
      "source": [
        "lista_media_mortes = list(df.groupby('periodo').mean()['idade_morte'])\n",
        "per = list(df['periodo'].unique())\n",
        "periodos = sorted(per)\n",
        "\n",
        "# Criando o DataFrame com as informações necessárias\n",
        "\n",
        "df_periodos = pd.DataFrame({\n",
        "    \"Período Histórico\": periodos,\n",
        "    \"Média Idade\": lista_media_mortes\n",
        "})"
      ],
      "metadata": {
        "id": "Pm5hKTMt76Bo"
      },
      "execution_count": null,
      "outputs": []
    },
    {
      "cell_type": "code",
      "source": [
        "app = Dash(__name__)\n",
        "\n",
        "fig = px.bar(df_periodos, x=\"Período Histórico\", y=\"Média Idade\", color=\"Período Histórico\")\n",
        "opcoes = list(df_periodos['Período Histórico'])\n",
        "opcoes.append(\"Todos\")\n",
        "\n",
        "app.layout = html.Div(children = [\n",
        "    html.H1(children = \"Média das Idades\"),\n",
        "    html.Div(children = '''\n",
        "      Este gráfico mostra a média da idade com que as pessoas morriam nos diferentes períodos históricos.\n",
        "    '''),\n",
        "\n",
        "    dcc.Dropdown(opcoes, value='Todos', id=\"lista_periodos\"),\n",
        "\n",
        "    dcc.Graph(\n",
        "        id=\"grafico_periodos\",\n",
        "        figure=fig\n",
        "    )\n",
        "])\n",
        "\n",
        "@app.callback(\n",
        "    Output('grafico_periodos', 'figure'),\n",
        "    Input('lista_periodos', 'value')\n",
        ")\n",
        "def update_output(value):\n",
        "  if value == \"Todos\":\n",
        "    fig = px.bar(df_periodos, x=\"Período Histórico\", y=\"Média Idade\", color=\"Período Histórico\")\n",
        "  else:\n",
        "    df_filtragem = df_periodos.loc[df_periodos['Período Histórico'] == value, :]\n",
        "    fig = px.bar(df_filtragem, x=\"Período Histórico\", y=\"Média Idade\", color=\"Período Histórico\")\n",
        "  return fig\n",
        "\n",
        "if __name__ == '__main__':\n",
        "  app.run_server(debug=True)"
      ],
      "metadata": {
        "id": "JwEGLAHFnUQe",
        "colab": {
          "base_uri": "https://localhost:8080/",
          "height": 671
        },
        "outputId": "03e51583-4394-47be-b632-4f3d2c3cdcff"
      },
      "execution_count": 82,
      "outputs": [
        {
          "output_type": "display_data",
          "data": {
            "text/plain": [
              "<IPython.core.display.Javascript object>"
            ],
            "application/javascript": [
              "(async (port, path, width, height, cache, element) => {\n",
              "    if (!google.colab.kernel.accessAllowed && !cache) {\n",
              "      return;\n",
              "    }\n",
              "    element.appendChild(document.createTextNode(''));\n",
              "    const url = await google.colab.kernel.proxyPort(port, {cache});\n",
              "    const iframe = document.createElement('iframe');\n",
              "    iframe.src = new URL(path, url).toString();\n",
              "    iframe.height = height;\n",
              "    iframe.width = width;\n",
              "    iframe.style.border = 0;\n",
              "    iframe.allow = [\n",
              "        'accelerometer',\n",
              "        'autoplay',\n",
              "        'camera',\n",
              "        'clipboard-read',\n",
              "        'clipboard-write',\n",
              "        'gyroscope',\n",
              "        'magnetometer',\n",
              "        'microphone',\n",
              "        'serial',\n",
              "        'usb',\n",
              "        'xr-spatial-tracking',\n",
              "    ].join('; ');\n",
              "    element.appendChild(iframe);\n",
              "  })(8050, \"/\", \"100%\", 650, false, window.element)"
            ]
          },
          "metadata": {}
        }
      ]
    }
  ]
}